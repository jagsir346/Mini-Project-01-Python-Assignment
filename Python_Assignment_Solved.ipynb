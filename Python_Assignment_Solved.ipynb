{
  "cells": [
    {
      "cell_type": "markdown",
      "metadata": {
        "id": "view-in-github",
        "colab_type": "text"
      },
      "source": [
        "<a href=\"https://colab.research.google.com/github/jagsir346/Mini-Project-01-Python-Assignment/blob/main/Python_Assignment_Solved.ipynb\" target=\"_parent\"><img src=\"https://colab.research.google.com/assets/colab-badge.svg\" alt=\"Open In Colab\"/></a>"
      ]
    },
    {
      "cell_type": "code",
      "execution_count": 1,
      "id": "1223b286",
      "metadata": {
        "colab": {
          "base_uri": "https://localhost:8080/"
        },
        "id": "1223b286",
        "outputId": "a6ae78ad-b5ad-415f-a506-7ca256b42b36"
      },
      "outputs": [
        {
          "output_type": "stream",
          "name": "stdout",
          "text": [
            "Requirement already satisfied: matplotlib in /usr/local/lib/python3.11/dist-packages (3.10.0)\n",
            "Requirement already satisfied: contourpy>=1.0.1 in /usr/local/lib/python3.11/dist-packages (from matplotlib) (1.3.2)\n",
            "Requirement already satisfied: cycler>=0.10 in /usr/local/lib/python3.11/dist-packages (from matplotlib) (0.12.1)\n",
            "Requirement already satisfied: fonttools>=4.22.0 in /usr/local/lib/python3.11/dist-packages (from matplotlib) (4.58.1)\n",
            "Requirement already satisfied: kiwisolver>=1.3.1 in /usr/local/lib/python3.11/dist-packages (from matplotlib) (1.4.8)\n",
            "Requirement already satisfied: numpy>=1.23 in /usr/local/lib/python3.11/dist-packages (from matplotlib) (2.0.2)\n",
            "Requirement already satisfied: packaging>=20.0 in /usr/local/lib/python3.11/dist-packages (from matplotlib) (24.2)\n",
            "Requirement already satisfied: pillow>=8 in /usr/local/lib/python3.11/dist-packages (from matplotlib) (11.2.1)\n",
            "Requirement already satisfied: pyparsing>=2.3.1 in /usr/local/lib/python3.11/dist-packages (from matplotlib) (3.2.3)\n",
            "Requirement already satisfied: python-dateutil>=2.7 in /usr/local/lib/python3.11/dist-packages (from matplotlib) (2.9.0.post0)\n",
            "Requirement already satisfied: six>=1.5 in /usr/local/lib/python3.11/dist-packages (from python-dateutil>=2.7->matplotlib) (1.17.0)\n"
          ]
        }
      ],
      "source": [
        "!pip install matplotlib"
      ]
    },
    {
      "cell_type": "code",
      "execution_count": 2,
      "id": "3d8537d8",
      "metadata": {
        "id": "3d8537d8"
      },
      "outputs": [],
      "source": [
        "import random\n",
        "import time\n",
        "import matplotlib.pyplot as plt"
      ]
    },
    {
      "cell_type": "markdown",
      "id": "5599bea5",
      "metadata": {
        "id": "5599bea5"
      },
      "source": [
        "#Q1. L is a list defined as L = [11, 12, 13, 14].\n",
        "(i) WAP to add 50 and 60 to L.\n",
        "(ii) WAP to remove 11 and 13 from L.\n",
        "(iii) WAP to sort L in ascending order.\n",
        "(iv) WAP to sort L in descending order.\n",
        "(v) WAP to search for 13 in L.\n",
        "(vi) WAP to count the number of elements present in L.\n",
        "(vii) WAP to sum all the elements in L.\n",
        "(viii) WAP to sum all ODD numbers in L.\n",
        "(ix) WAP to sum all EVEN numbers in L.\n",
        "(x) WAP to sum all PRIME numbers in L.\n",
        "(xi) WAP to clear all the elements in L.\n",
        "(xii) WAP to delete L."
      ]
    },
    {
      "cell_type": "code",
      "execution_count": 3,
      "id": "8eafa843",
      "metadata": {
        "colab": {
          "base_uri": "https://localhost:8080/"
        },
        "id": "8eafa843",
        "outputId": "882f32ed-6618-451c-8fa9-e6264e2b2dde"
      },
      "outputs": [
        {
          "output_type": "stream",
          "name": "stdout",
          "text": [
            "[11, 12, 13, 14, 50, 60]\n",
            "[12, 14, 50, 60]\n",
            "[12, 14, 50, 60]\n",
            "[60, 50, 14, 12]\n",
            "False\n",
            "4\n",
            "136\n",
            "0\n",
            "136\n",
            "0\n",
            "[]\n"
          ]
        }
      ],
      "source": [
        "# Q1 Answers\n",
        "#(i)\n",
        "L = [11, 12, 13, 14]\n",
        "L.extend([50, 60])\n",
        "print(L)\n",
        "#(ii)\n",
        "L.remove(11)\n",
        "L.remove(13)\n",
        "print(L)\n",
        "#(iii)\n",
        "L.sort()\n",
        "print(L)\n",
        "#(iv)\n",
        "L.sort(reverse=True)\n",
        "print(L)\n",
        "#(v)\n",
        "found_13 = 13 in L\n",
        "print(found_13)\n",
        "#(vi)\n",
        "num_elements = len(L)\n",
        "print(num_elements)\n",
        "#(vii)\n",
        "sum_elements = sum(L)\n",
        "print(sum_elements)\n",
        "#(viii)\n",
        "sum_odd = sum(x for x in L if x % 2 == 1)\n",
        "print(sum_odd)\n",
        "#(ix)\n",
        "sum_even = sum(x for x in L if x % 2 == 0)\n",
        "print(sum_even)\n",
        "#(x)\n",
        "def is_prime(n):\n",
        "    return n > 1 and all(n % i != 0 for i in range(2, int(n ** 0.5) + 1))\n",
        "sum_prime = sum(x for x in L if is_prime(x))\n",
        "print(sum_prime)\n",
        "#(xi)\n",
        "L.clear()\n",
        "print(L)\n",
        "#(xii)\n",
        "del L"
      ]
    },
    {
      "cell_type": "markdown",
      "id": "779036d3",
      "metadata": {
        "id": "779036d3"
      },
      "source": [
        "### Q2: Dictionary Operations\n",
        "D is defined as `D = {1:5.6, 2:7.8, 3:6.6, 4:8.7, 5:7.7}`.\n",
        "(i) WAP to add new entry in D; key = 8 and value = 8.8\n",
        "(ii) WAP to remove key = 2.\n",
        "(iii) WAP to check whether key 6 is present in D.\n",
        "(iv) WAP to count the number of elements present in D.\n",
        "(v) WAP to add all the values present in D.\n",
        "(vi) WAP to update the value of key 3 to 7.1.\n",
        "(vii) WAP to clear the dictionary.\n",
        "\n"
      ]
    },
    {
      "cell_type": "code",
      "execution_count": 4,
      "id": "31c5fc86",
      "metadata": {
        "colab": {
          "base_uri": "https://localhost:8080/"
        },
        "id": "31c5fc86",
        "outputId": "62f43870-dccf-4652-d3fc-6fd79f66d56f"
      },
      "outputs": [
        {
          "output_type": "stream",
          "name": "stdout",
          "text": [
            "{1: 5.6, 2: 7.8, 3: 6.6, 4: 8.7, 5: 7.7, 8: 8.8}\n",
            "{1: 5.6, 3: 6.6, 4: 8.7, 5: 7.7, 8: 8.8}\n",
            "False\n",
            "5\n",
            "37.4\n",
            "{1: 5.6, 3: 7.1, 4: 8.7, 5: 7.7, 8: 8.8}\n",
            "{}\n"
          ]
        }
      ],
      "source": [
        "D = {1:5.6, 2:7.8, 3:6.6, 4:8.7, 5:7.7}\n",
        "#(i)\n",
        "D[8] = 8.8\n",
        "print(D)\n",
        "#(ii)\n",
        "del D[2]\n",
        "print(D)\n",
        "#(iii)\n",
        "key_check = 6 in D\n",
        "print(key_check)\n",
        "#(iv)\n",
        "count = len(D)\n",
        "print(count)\n",
        "#(v)\n",
        "total_value = sum(D.values())\n",
        "print(total_value)\n",
        "#(vi)\n",
        "D[3] = 7.1\n",
        "print(D)\n",
        "D.clear()\n",
        "print(D)"
      ]
    },
    {
      "cell_type": "markdown",
      "id": "7c1cba30",
      "metadata": {
        "id": "7c1cba30"
      },
      "source": [
        "### Q3: Set Operations\n",
        "S1 = {10, 20, 30, 40, 50, 60}, S2 = {40, 50, 60, 70, 80, 90}.\n",
        "(i) WAP to add 55 and 66 in Set S1.\n",
        "(ii) WAP to remove 10 and 30 from Set S1.\n",
        "(iii) WAP to check whether 40 is present in S1.\n",
        "(iv) WAP to find the union between S1 and S2.\n",
        "(v) WAP to find the intersection between S1 and S2.\n",
        "(vi) WAP to find the S1 - S2."
      ]
    },
    {
      "cell_type": "code",
      "execution_count": 5,
      "id": "cc5ea797",
      "metadata": {
        "colab": {
          "base_uri": "https://localhost:8080/"
        },
        "id": "cc5ea797",
        "outputId": "665a9a12-127f-4b0f-9204-30f392e1678c"
      },
      "outputs": [
        {
          "output_type": "stream",
          "name": "stdout",
          "text": [
            "{50, 66, 20, 55, 40, 10, 60, 30}\n",
            "{50, 66, 20, 55, 40, 60}\n",
            "True\n",
            "{66, 70, 40, 80, 50, 20, 55, 90, 60}\n",
            "{40, 50, 60}\n",
            "{66, 20, 55}\n"
          ]
        }
      ],
      "source": [
        "S1 = {10, 20, 30, 40, 50, 60}\n",
        "S2 = {40, 50, 60, 70, 80, 90}\n",
        "#(i)\n",
        "S1.update([55, 66])\n",
        "print(S1)\n",
        "#(ii)\n",
        "S1.difference_update({10, 30})\n",
        "print(S1)\n",
        "#(iii)\n",
        "check_40 = 40 in S1\n",
        "print(check_40)\n",
        "#(iv)\n",
        "union_set = S1 | S2\n",
        "print(union_set)\n",
        "#(v)\n",
        "intersection = S1 & S2\n",
        "print(intersection)\n",
        "#(vi)\n",
        "difference = S1 - S2\n",
        "print(difference)"
      ]
    },
    {
      "cell_type": "markdown",
      "id": "0ce9cf0d",
      "metadata": {
        "id": "0ce9cf0d"
      },
      "source": [
        "### Q4: Random Strings and Prime Numbers\n",
        "(i) WAP to print 100 random strings whose length is between 6 and 8.\n",
        "(ii) WAP to print all prime numbers between 600 and 800.\n",
        "(iii) WAP to print all numbers between 100 and 1000 that are divisible by 7 and 9."
      ]
    },
    {
      "cell_type": "code",
      "execution_count": 7,
      "id": "72f1357b",
      "metadata": {
        "colab": {
          "base_uri": "https://localhost:8080/"
        },
        "id": "72f1357b",
        "outputId": "66eb802d-91a7-4ff0-a08f-59ba75eb4fec"
      },
      "outputs": [
        {
          "output_type": "stream",
          "name": "stdout",
          "text": [
            "['krqjrzli', 'qlerepi', 'mgqhqqz', 'vngwve', 'sithgoud', 'jdwwtg', 'wuzatqpq', 'nkvige', 'ypldeue', 'wsyzkt', 'hhowokuk', 'alwsfnr', 'ijbskz', 'bsrohno', 'xzyynfwy', 'asnityiy', 'qtpujxgt', 'wkvtwh', 'uvyztv', 'gsxzlo', 'mqhkaiq', 'bgxlleq', 'hodhrlj', 'argypmi', 'uygqogws', 'ytuleq', 'bdchrazo', 'oyzgjs', 'yzkgdjmo', 'ndusehc', 'tctwbe', 'latgoytk', 'pegglaks', 'mcmvhe', 'ducvzoy', 'nvgcdd', 'bszllx', 'nkrirpon', 'ulhmzgt', 'leabjqx', 'vmlotnlt', 'buszva', 'cinhepuh', 'wxqrtxv', 'chgqctml', 'cirqdtci', 'raimtbk', 'jhytzuy', 'wxivctb', 'ahoyweal', 'qvlixsil', 'dhhjcj', 'wtvlmt', 'mxdifil', 'fusdfk', 'gqlbxvw', 'iqikjmga', 'hhnvbak', 'svpfqzn', 'mzreoqg', 'ksuycwa', 'mireyv', 'kffqyuor', 'sqrziig', 'lsxujexd', 'jzvdqn', 'uwfdty', 'dohrojlr', 'flpwcj', 'luwdck', 'gpqnve', 'fbndkesf', 'cxdwkdrc', 'gybvkqfs', 'aabiqaty', 'nmauuhpe', 'bfglahlh', 'vxgkbt', 'qgywhq', 'xuefky', 'lgppjumh', 'phuqvsw', 'bhfdfc', 'fblctge', 'exnllne', 'ghfxbige', 'dihlown', 'xuxhvcwg', 'rzbtzel', 'eiypmm', 'ixrontq', 'fpndoep', 'scwbaf', 'wyarpss', 'mpahdzyk', 'fijklmfv', 'grpxdggz', 'rwzbef', 'psyaijk', 'pimbdb']\n",
            "[601, 607, 613, 617, 619, 631, 641, 643, 647, 653, 659, 661, 673, 677, 683, 691, 701, 709, 719, 727, 733, 739, 743, 751, 757, 761, 769, 773, 787, 797]\n",
            "[126, 189, 252, 315, 378, 441, 504, 567, 630, 693, 756, 819, 882, 945]\n"
          ]
        }
      ],
      "source": [
        "import random\n",
        "#(i)\n",
        "rand_strings = [''.join(random.choices('abcdefghijklmnopqrstuvwxyz', k=random.randint(6, 8))) for _ in range(100)]\n",
        "print(rand_strings)\n",
        "#(ii)\n",
        "primes_600_800 = [x for x in range(600, 801) if is_prime(x)]\n",
        "print(primes_600_800)\n",
        "#(iii)\n",
        "divisible_7_9 = [x for x in range(100, 1001) if x % 7 == 0 and x % 9 == 0]\n",
        "print(divisible_7_9)"
      ]
    },
    {
      "cell_type": "markdown",
      "id": "0ca2279a",
      "metadata": {
        "id": "0ca2279a"
      },
      "source": [
        "### Q5: Compare Two Lists of Random Numbers\n",
        "(i) Common numbers in the two lists\n",
        "(ii) Unique numbers in both the list\n",
        "(iii) Minimum in both the list\n",
        "(iv) Maximum in both the list\n",
        "(v) Sum of both the lists\n"
      ]
    },
    {
      "cell_type": "code",
      "execution_count": 8,
      "id": "4183f1f1",
      "metadata": {
        "colab": {
          "base_uri": "https://localhost:8080/"
        },
        "id": "4183f1f1",
        "outputId": "f51ddf37-917e-4126-e3ec-2b009f3cdb76"
      },
      "outputs": [
        {
          "output_type": "stream",
          "name": "stdout",
          "text": [
            "[24, 14, 28, 17, 26, 21, 13, 23, 18, 15]\n",
            "[18, 23, 19, 16, 20, 14, 13, 29, 10, 22]\n",
            "[18, 13, 14, 23]\n",
            "[10, 15, 16, 17, 19, 20, 21, 22, 24, 26, 28, 29]\n",
            "10\n",
            "29\n",
            "383\n"
          ]
        }
      ],
      "source": [
        "list1 = random.sample(range(10, 31), 10)\n",
        "list2 = random.sample(range(10, 31), 10)\n",
        "print(list1)\n",
        "print(list2)\n",
        "#(i)\n",
        "common = list(set(list1) & set(list2))\n",
        "print(common)\n",
        "#(ii)\n",
        "unique = list(set(list1) ^ set(list2))\n",
        "print(unique)\n",
        "#(iii)\n",
        "min_val = min(min(list1), min(list2))\n",
        "print(min_val)\n",
        "#(iv)\n",
        "max_val = max(max(list1), max(list2))\n",
        "print(max_val)\n",
        "#(v)\n",
        "sum_lists = sum(list1) + sum(list2)\n",
        "print(sum_lists)"
      ]
    },
    {
      "cell_type": "markdown",
      "id": "c0c2fcc0",
      "metadata": {
        "id": "c0c2fcc0"
      },
      "source": [
        "Q6. WAP to create a list of 100 random numbers between 100 and 900. Count and print the:\n",
        "\n",
        "(i) All odd numbers\n",
        "(ii) All even numbers\n",
        "(iii) All prime numbers\n",
        "\n"
      ]
    },
    {
      "cell_type": "code",
      "execution_count": 9,
      "id": "5bdea51b",
      "metadata": {
        "colab": {
          "base_uri": "https://localhost:8080/"
        },
        "id": "5bdea51b",
        "outputId": "e44a38ab-464d-4437-946d-629d7fc7ce9f"
      },
      "outputs": [
        {
          "output_type": "stream",
          "name": "stdout",
          "text": [
            "[876, 439, 754, 244, 142, 652, 900, 488, 281, 554, 558, 515, 159, 857, 167, 415, 370, 566, 685, 764, 786, 811, 623, 128, 664, 792, 888, 374, 135, 264, 161, 127, 280, 836, 584, 422, 179, 536, 881, 170, 510, 883, 482, 120, 701, 872, 170, 207, 759, 384, 686, 314, 792, 401, 332, 581, 622, 735, 517, 719, 793, 498, 179, 284, 205, 782, 601, 749, 237, 534, 695, 827, 796, 216, 100, 447, 472, 555, 662, 619, 564, 522, 786, 237, 603, 327, 317, 838, 210, 174, 807, 461, 515, 837, 606, 810, 571, 340, 875, 604]\n",
            "[439, 281, 515, 159, 857, 167, 415, 685, 811, 623, 135, 161, 127, 179, 881, 883, 701, 207, 759, 401, 581, 735, 517, 719, 793, 179, 205, 601, 749, 237, 695, 827, 447, 555, 619, 237, 603, 327, 317, 807, 461, 515, 837, 571, 875]\n",
            "[876, 754, 244, 142, 652, 900, 488, 554, 558, 370, 566, 764, 786, 128, 664, 792, 888, 374, 264, 280, 836, 584, 422, 536, 170, 510, 482, 120, 872, 170, 384, 686, 314, 792, 332, 622, 498, 284, 782, 534, 796, 216, 100, 472, 662, 564, 522, 786, 838, 210, 174, 606, 810, 340, 604]\n",
            "[439, 281, 857, 167, 811, 127, 179, 881, 883, 701, 401, 719, 179, 601, 827, 619, 317, 461, 571]\n"
          ]
        }
      ],
      "source": [
        "rand_nums = [random.randint(100, 900) for _ in range(100)]\n",
        "print(rand_nums)\n",
        "#(i)\n",
        "odd_nums = [x for x in rand_nums if x % 2 == 1]\n",
        "print(odd_nums)\n",
        "#(ii)\n",
        "even_nums = [x for x in rand_nums if x % 2 == 0]\n",
        "print(even_nums)\n",
        "#(iii)\n",
        "prime_nums = [x for x in rand_nums if is_prime(x)]\n",
        "print(prime_nums)"
      ]
    },
    {
      "cell_type": "markdown",
      "id": "d9d85efd",
      "metadata": {
        "id": "d9d85efd"
      },
      "source": [
        "Q7. D is a dictionary defined as D = {1: \"One\", 2: \"Two\", 3: \"Three\", 4: \"Four\", 5: \"Five\"}\n",
        "WAP to read all the keys and values from dictionary and write to the file"
      ]
    },
    {
      "cell_type": "code",
      "execution_count": 10,
      "id": "47e9345b",
      "metadata": {
        "id": "47e9345b"
      },
      "outputs": [],
      "source": [
        "D = {1: \"One\", 2: \"Two\", 3: \"Three\", 4: \"Four\", 5: \"Five\"}\n",
        "with open(\"dict_output.txt\", \"w\") as f:\n",
        "    for k, v in D.items():\n",
        "        f.write(f\"{k}, {v}\\n\")\n"
      ]
    },
    {
      "cell_type": "markdown",
      "id": "f2f115cc",
      "metadata": {
        "id": "f2f115cc"
      },
      "source": [
        "### Q8: List Element Lengths to File"
      ]
    },
    {
      "cell_type": "code",
      "execution_count": 11,
      "id": "07482841",
      "metadata": {
        "id": "07482841"
      },
      "outputs": [],
      "source": [
        "L = [\"One\", \"Two\", \"Three\", \"Four\", \"Five\"]\n",
        "with open(\"length_output.txt\", \"w\") as f:\n",
        "    for word in L:\n",
        "        f.write(f\"{word}, {len(word)}\\n\")\n"
      ]
    },
    {
      "cell_type": "markdown",
      "id": "93c16b11",
      "metadata": {
        "id": "93c16b11"
      },
      "source": [
        "### Q9: Write 100 Random Strings (10-15 length) to File"
      ]
    },
    {
      "cell_type": "code",
      "execution_count": 12,
      "id": "cb1d414d",
      "metadata": {
        "id": "cb1d414d"
      },
      "outputs": [],
      "source": [
        "rand_strs = [''.join(random.choices('abcdefghijklmnopqrstuvwxyz', k=random.randint(10, 15))) for _ in range(100)]\n",
        "with open(\"random_100_strings.txt\", \"w\") as f:\n",
        "    f.writelines([s + '\\n' for s in rand_strs])\n"
      ]
    },
    {
      "cell_type": "markdown",
      "id": "4527fcc3",
      "metadata": {
        "id": "4527fcc3"
      },
      "source": [
        "### Q10: Write Prime Numbers Between 600-800 to File"
      ]
    },
    {
      "cell_type": "code",
      "execution_count": 13,
      "id": "6aa0287e",
      "metadata": {
        "id": "6aa0287e"
      },
      "outputs": [],
      "source": [
        "primes = [str(x) for x in range(600, 801) if is_prime(x)]\n",
        "with open(\"primes_600_800.txt\", \"w\") as f:\n",
        "    f.write(', '.join(primes))"
      ]
    },
    {
      "cell_type": "markdown",
      "id": "7f6d048b",
      "metadata": {
        "id": "7f6d048b"
      },
      "source": [
        "### Q11: Measure Time Taken by a Program"
      ]
    },
    {
      "cell_type": "code",
      "execution_count": 14,
      "id": "86510425",
      "metadata": {
        "colab": {
          "base_uri": "https://localhost:8080/"
        },
        "id": "86510425",
        "outputId": "714feabe-86bb-43f2-db49-e3385d01cda1"
      },
      "outputs": [
        {
          "output_type": "stream",
          "name": "stdout",
          "text": [
            "Time Taken: 0.018840789794921875\n"
          ]
        }
      ],
      "source": [
        "import time\n",
        "start = time.time()\n",
        "sum(range(1000000))\n",
        "end = time.time()\n",
        "print(\"Time Taken:\", end - start)"
      ]
    },
    {
      "cell_type": "markdown",
      "id": "afb36e05",
      "metadata": {
        "id": "afb36e05"
      },
      "source": [
        "### Q12: Sort Large Lists and Plot Time"
      ]
    },
    {
      "cell_type": "code",
      "execution_count": 15,
      "id": "f3d3cfe4",
      "metadata": {
        "colab": {
          "base_uri": "https://localhost:8080/",
          "height": 472
        },
        "id": "f3d3cfe4",
        "outputId": "bc6dfe0c-2147-4fda-b8e6-621cc60c4ecd"
      },
      "outputs": [
        {
          "output_type": "display_data",
          "data": {
            "text/plain": [
              "<Figure size 640x480 with 1 Axes>"
            ],
            "image/png": "[encoded data removed]"
          },
          "metadata": {}
        }
      ],
      "source": [
        "import matplotlib.pyplot as plt\n",
        "sizes = [5000, 10000, 15000, 20000, 25000]\n",
        "times = []\n",
        "for size in sizes:\n",
        "    nums = [random.randint(1, 100000) for _ in range(size)]\n",
        "    start = time.time()\n",
        "    nums.sort()\n",
        "    end = time.time()\n",
        "    times.append(end - start)\n",
        "\n",
        "plt.plot(sizes, times, marker='o')\n",
        "plt.xlabel(\"Number of elements\")\n",
        "plt.ylabel(\"Time taken (s)\")\n",
        "plt.title(\"Time vs Size\")\n",
        "plt.grid()\n",
        "plt.show()"
      ]
    },
    {
      "cell_type": "markdown",
      "id": "f6561b45",
      "metadata": {
        "id": "f6561b45"
      },
      "source": [
        "### Q13: Student Marks Dictionary - Find Max and Min Average"
      ]
    },
    {
      "cell_type": "code",
      "execution_count": 16,
      "id": "cd86bbb0",
      "metadata": {
        "colab": {
          "base_uri": "https://localhost:8080/"
        },
        "id": "cd86bbb0",
        "outputId": "fc952f22-afd2-4fa4-9464-9896b1c06bae"
      },
      "outputs": [
        {
          "output_type": "stream",
          "name": "stdout",
          "text": [
            "Highest Average: C\n",
            "Lowest Average: B\n"
          ]
        }
      ],
      "source": [
        "students = {\n",
        "    \"A\": [90, 85, 80, 70, 75],\n",
        "    \"B\": [60, 75, 85, 95, 65],\n",
        "    \"C\": [78, 82, 88, 91, 86]\n",
        "}\n",
        "averages = {k: sum(v)/len(v) for k, v in students.items()}\n",
        "max_avg = max(averages, key=averages.get)\n",
        "min_avg = min(averages, key=averages.get)\n",
        "print(\"Highest Average:\", max_avg)\n",
        "print(\"Lowest Average:\", min_avg)"
      ]
    }
  ],
  "metadata": {
    "colab": {
      "provenance": [],
      "include_colab_link": true
    },
    "language_info": {
      "name": "python"
    },
    "kernelspec": {
      "name": "python3",
      "display_name": "Python 3"
    }
  },
  "nbformat": 4,
  "nbformat_minor": 5
}