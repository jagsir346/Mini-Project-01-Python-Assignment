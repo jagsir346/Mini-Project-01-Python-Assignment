{
  "cells": [
    {
      "cell_type": "markdown",
      "metadata": {
        "id": "view-in-github",
        "colab_type": "text"
      },
      "source": [
        "<a href=\"https://colab.research.google.com/github/jagsir346/Mini-Project-01-Python-Assignment/blob/main/Python_Assignment_Solved.ipynb\" target=\"_parent\"><img src=\"https://colab.research.google.com/assets/colab-badge.svg\" alt=\"Open In Colab\"/></a>"
      ]
    },
    {
      "cell_type": "code",
      "execution_count": 1,
      "id": "1223b286",
      "metadata": {
        "colab": {
          "base_uri": "https://localhost:8080/"
        },
        "id": "1223b286",
        "outputId": "7c168747-5dcd-4a3d-e973-6af6287f3625"
      },
      "outputs": [
        {
          "output_type": "stream",
          "name": "stdout",
          "text": [
            "Requirement already satisfied: matplotlib in /usr/local/lib/python3.11/dist-packages (3.10.0)\n",
            "Requirement already satisfied: contourpy>=1.0.1 in /usr/local/lib/python3.11/dist-packages (from matplotlib) (1.3.2)\n",
            "Requirement already satisfied: cycler>=0.10 in /usr/local/lib/python3.11/dist-packages (from matplotlib) (0.12.1)\n",
            "Requirement already satisfied: fonttools>=4.22.0 in /usr/local/lib/python3.11/dist-packages (from matplotlib) (4.58.1)\n",
            "Requirement already satisfied: kiwisolver>=1.3.1 in /usr/local/lib/python3.11/dist-packages (from matplotlib) (1.4.8)\n",
            "Requirement already satisfied: numpy>=1.23 in /usr/local/lib/python3.11/dist-packages (from matplotlib) (2.0.2)\n",
            "Requirement already satisfied: packaging>=20.0 in /usr/local/lib/python3.11/dist-packages (from matplotlib) (24.2)\n",
            "Requirement already satisfied: pillow>=8 in /usr/local/lib/python3.11/dist-packages (from matplotlib) (11.2.1)\n",
            "Requirement already satisfied: pyparsing>=2.3.1 in /usr/local/lib/python3.11/dist-packages (from matplotlib) (3.2.3)\n",
            "Requirement already satisfied: python-dateutil>=2.7 in /usr/local/lib/python3.11/dist-packages (from matplotlib) (2.9.0.post0)\n",
            "Requirement already satisfied: six>=1.5 in /usr/local/lib/python3.11/dist-packages (from python-dateutil>=2.7->matplotlib) (1.17.0)\n"
          ]
        }
      ],
      "source": [
        "!pip install matplotlib"
      ]
    },
    {
      "cell_type": "code",
      "execution_count": 2,
      "id": "3d8537d8",
      "metadata": {
        "id": "3d8537d8"
      },
      "outputs": [],
      "source": [
        "import random\n",
        "import time\n",
        "import matplotlib.pyplot as plt"
      ]
    },
    {
      "cell_type": "markdown",
      "source": [],
      "metadata": {
        "id": "6iAtu4KUJ7WJ"
      },
      "id": "6iAtu4KUJ7WJ"
    },
    {
      "cell_type": "code",
      "execution_count": 3,
      "id": "a94ec63a",
      "metadata": {
        "id": "a94ec63a"
      },
      "outputs": [],
      "source": [
        "def is_prime(n): return n > 1 and all(n % i != 0 for i in range(2, int(n ** 0.5) + 1))"
      ]
    },
    {
      "cell_type": "markdown",
      "id": "5599bea5",
      "metadata": {
        "id": "5599bea5"
      },
      "source": [
        "### Q1: List Operations\n",
        "L is a list defined as `L = [11, 12, 13, 14]`. Perform the following operations:\n",
        "1. Add 50 and 60\n",
        "2. Remove 11 and 13\n",
        "3. Sort ascending and descending\n",
        "4. Search for 13\n",
        "5. Count, sum, odd/even/prime sums\n",
        "6. Clear and delete the list"
      ]
    },
    {
      "cell_type": "code",
      "execution_count": 6,
      "id": "8eafa843",
      "metadata": {
        "colab": {
          "base_uri": "https://localhost:8080/"
        },
        "id": "8eafa843",
        "outputId": "9c327fe0-5c2a-400e-8ca1-857ed25adbe3"
      },
      "outputs": [
        {
          "output_type": "stream",
          "name": "stdout",
          "text": [
            "[11, 12, 13, 14, 50, 60]\n",
            "[12, 14, 50, 60]\n",
            "[60, 50, 14, 12]\n"
          ]
        }
      ],
      "source": [
        "# Q1 Answers\n",
        "L = [11, 12, 13, 14]\n",
        "L.extend([50, 60])\n",
        "print(L)\n",
        "L = [x for x in L if x not in [11, 13]]\n",
        "L.sort()\n",
        "print(L)\n",
        "L.sort(reverse=True)\n",
        "print(L)\n",
        "found_13 = 13 in L\n",
        "num_elements = len(L)\n",
        "sum_elements = sum(L)\n",
        "sum_odd = sum(x for x in L if x % 2 == 1)\n",
        "sum_even = sum(x for x in L if x % 2 == 0)\n",
        "def is_prime(n):\n",
        "    return n > 1 and all(n % i != 0 for i in range(2, int(n ** 0.5) + 1))\n",
        "sum_prime = sum(x for x in L if is_prime(x))\n",
        "L.clear()\n",
        "del L\n"
      ]
    },
    {
      "cell_type": "markdown",
      "id": "779036d3",
      "metadata": {
        "id": "779036d3"
      },
      "source": [
        "### Q2: Dictionary Operations\n",
        "D is defined as `D = {1:5.6, 2:7.8, 3:6.6, 4:8.7, 5:7.7}`. Perform addition, deletion, search, update, sum, and clear."
      ]
    },
    {
      "cell_type": "code",
      "execution_count": null,
      "id": "31c5fc86",
      "metadata": {
        "id": "31c5fc86"
      },
      "outputs": [],
      "source": [
        "D = {1:5.6, 2:7.8, 3:6.6, 4:8.7, 5:7.7}\n",
        "D[8] = 8.8\n",
        "D.pop(2, None)\n",
        "key_check = 6 in D\n",
        "count = len(D)\n",
        "total_value = sum(D.values())\n",
        "D[3] = 7.1\n",
        "D.clear()"
      ]
    },
    {
      "cell_type": "markdown",
      "id": "7c1cba30",
      "metadata": {
        "id": "7c1cba30"
      },
      "source": [
        "### Q3: Set Operations\n",
        "S1 = {10, 20, 30, 40, 50, 60}, S2 = {40, 50, 60, 70, 80, 90}. Perform add, remove, union, intersection, difference."
      ]
    },
    {
      "cell_type": "code",
      "execution_count": null,
      "id": "cc5ea797",
      "metadata": {
        "id": "cc5ea797"
      },
      "outputs": [],
      "source": [
        "S1 = {10, 20, 30, 40, 50, 60}\n",
        "S2 = {40, 50, 60, 70, 80, 90}\n",
        "S1.update([55, 66])\n",
        "S1.difference_update({10, 30})\n",
        "check_40 = 40 in S1\n",
        "union_set = S1 | S2\n",
        "intersection = S1 & S2\n",
        "difference = S1 - S2"
      ]
    },
    {
      "cell_type": "markdown",
      "id": "0ce9cf0d",
      "metadata": {
        "id": "0ce9cf0d"
      },
      "source": [
        "### Q4: Random Strings and Prime Numbers"
      ]
    },
    {
      "cell_type": "code",
      "execution_count": null,
      "id": "72f1357b",
      "metadata": {
        "id": "72f1357b"
      },
      "outputs": [],
      "source": [
        "import random\n",
        "rand_strings = [''.join(random.choices('abcdefghijklmnopqrstuvwxyz', k=random.randint(6, 8))) for _ in range(100)]\n",
        "primes_600_800 = [x for x in range(600, 801) if is_prime(x)]\n",
        "divisible_7_9 = [x for x in range(100, 1001) if x % 7 == 0 and x % 9 == 0]"
      ]
    },
    {
      "cell_type": "markdown",
      "id": "0ca2279a",
      "metadata": {
        "id": "0ca2279a"
      },
      "source": [
        "### Q5: Compare Two Lists of Random Numbers"
      ]
    },
    {
      "cell_type": "code",
      "execution_count": null,
      "id": "4183f1f1",
      "metadata": {
        "id": "4183f1f1"
      },
      "outputs": [],
      "source": [
        "list1 = random.sample(range(10, 31), 10)\n",
        "list2 = random.sample(range(10, 31), 10)\n",
        "common = list(set(list1) & set(list2))\n",
        "unique = list(set(list1) ^ set(list2))\n",
        "min_val = min(min(list1), min(list2))\n",
        "max_val = max(max(list1), max(list2))\n",
        "sum_lists = sum(list1) + sum(list2)"
      ]
    },
    {
      "cell_type": "markdown",
      "id": "c0c2fcc0",
      "metadata": {
        "id": "c0c2fcc0"
      },
      "source": [
        "### Q6: Random List Analysis"
      ]
    },
    {
      "cell_type": "code",
      "execution_count": null,
      "id": "5bdea51b",
      "metadata": {
        "id": "5bdea51b"
      },
      "outputs": [],
      "source": [
        "rand_nums = [random.randint(100, 900) for _ in range(100)]\n",
        "odd_nums = [x for x in rand_nums if x % 2 == 1]\n",
        "even_nums = [x for x in rand_nums if x % 2 == 0]\n",
        "prime_nums = [x for x in rand_nums if is_prime(x)]"
      ]
    },
    {
      "cell_type": "markdown",
      "id": "d9d85efd",
      "metadata": {
        "id": "d9d85efd"
      },
      "source": [
        "### Q7: Dictionary to File"
      ]
    },
    {
      "cell_type": "code",
      "execution_count": null,
      "id": "47e9345b",
      "metadata": {
        "id": "47e9345b"
      },
      "outputs": [],
      "source": [
        "D = {1: \"One\", 2: \"Two\", 3: \"Three\", 4: \"Four\", 5: \"Five\"}\n",
        "with open(\"dict_output.txt\", \"w\") as f:\n",
        "    for k, v in D.items():\n",
        "        f.write(f\"{k}, {v}\\n\")"
      ]
    },
    {
      "cell_type": "markdown",
      "id": "f2f115cc",
      "metadata": {
        "id": "f2f115cc"
      },
      "source": [
        "### Q8: List Element Lengths to File"
      ]
    },
    {
      "cell_type": "code",
      "execution_count": null,
      "id": "07482841",
      "metadata": {
        "id": "07482841"
      },
      "outputs": [],
      "source": [
        "L = [\"One\", \"Two\", \"Three\", \"Four\", \"Five\"]\n",
        "with open(\"length_output.txt\", \"w\") as f:\n",
        "    for word in L:\n",
        "        f.write(f\"{word}, {len(word)}\\n\")"
      ]
    },
    {
      "cell_type": "markdown",
      "id": "93c16b11",
      "metadata": {
        "id": "93c16b11"
      },
      "source": [
        "### Q9: Write 100 Random Strings (10-15 length) to File"
      ]
    },
    {
      "cell_type": "code",
      "execution_count": null,
      "id": "cb1d414d",
      "metadata": {
        "id": "cb1d414d"
      },
      "outputs": [],
      "source": [
        "rand_strs = [''.join(random.choices('abcdefghijklmnopqrstuvwxyz', k=random.randint(10, 15))) for _ in range(100)]\n",
        "with open(\"random_100_strings.txt\", \"w\") as f:\n",
        "    f.writelines([s + '\\n' for s in rand_strs])"
      ]
    },
    {
      "cell_type": "markdown",
      "id": "4527fcc3",
      "metadata": {
        "id": "4527fcc3"
      },
      "source": [
        "### Q10: Write Prime Numbers Between 600-800 to File"
      ]
    },
    {
      "cell_type": "code",
      "execution_count": null,
      "id": "6aa0287e",
      "metadata": {
        "id": "6aa0287e"
      },
      "outputs": [],
      "source": [
        "primes = [str(x) for x in range(600, 801) if is_prime(x)]\n",
        "with open(\"primes_600_800.txt\", \"w\") as f:\n",
        "    f.write(', '.join(primes))"
      ]
    },
    {
      "cell_type": "markdown",
      "id": "7f6d048b",
      "metadata": {
        "id": "7f6d048b"
      },
      "source": [
        "### Q11: Measure Time Taken by a Program"
      ]
    },
    {
      "cell_type": "code",
      "execution_count": null,
      "id": "86510425",
      "metadata": {
        "id": "86510425"
      },
      "outputs": [],
      "source": [
        "import time\n",
        "start = time.time()\n",
        "sum(range(1000000))\n",
        "end = time.time()\n",
        "print(\"Time Taken:\", end - start)"
      ]
    },
    {
      "cell_type": "markdown",
      "id": "afb36e05",
      "metadata": {
        "id": "afb36e05"
      },
      "source": [
        "### Q12: Sort Large Lists and Plot Time"
      ]
    },
    {
      "cell_type": "code",
      "execution_count": null,
      "id": "f3d3cfe4",
      "metadata": {
        "id": "f3d3cfe4"
      },
      "outputs": [],
      "source": [
        "import matplotlib.pyplot as plt\n",
        "sizes = [5000, 10000, 15000, 20000, 25000]\n",
        "times = []\n",
        "for size in sizes:\n",
        "    nums = [random.randint(1, 100000) for _ in range(size)]\n",
        "    start = time.time()\n",
        "    nums.sort()\n",
        "    end = time.time()\n",
        "    times.append(end - start)\n",
        "\n",
        "plt.plot(sizes, times, marker='o')\n",
        "plt.xlabel(\"Number of elements\")\n",
        "plt.ylabel(\"Time taken (s)\")\n",
        "plt.title(\"Time vs Size\")\n",
        "plt.grid()\n",
        "plt.show()"
      ]
    },
    {
      "cell_type": "markdown",
      "id": "f6561b45",
      "metadata": {
        "id": "f6561b45"
      },
      "source": [
        "### Q13: Student Marks Dictionary - Find Max and Min Average"
      ]
    },
    {
      "cell_type": "code",
      "execution_count": null,
      "id": "cd86bbb0",
      "metadata": {
        "id": "cd86bbb0"
      },
      "outputs": [],
      "source": [
        "students = {\n",
        "    \"A\": [90, 85, 80, 70, 75],\n",
        "    \"B\": [60, 75, 85, 95, 65],\n",
        "    \"C\": [78, 82, 88, 91, 86]\n",
        "}\n",
        "averages = {k: sum(v)/len(v) for k, v in students.items()}\n",
        "max_avg = max(averages, key=averages.get)\n",
        "min_avg = min(averages, key=averages.get)\n",
        "print(\"Highest Average:\", max_avg)\n",
        "print(\"Lowest Average:\", min_avg)"
      ]
    }
  ],
  "metadata": {
    "colab": {
      "provenance": [],
      "include_colab_link": true
    },
    "language_info": {
      "name": "python"
    },
    "kernelspec": {
      "name": "python3",
      "display_name": "Python 3"
    }
  },
  "nbformat": 4,
  "nbformat_minor": 5
}